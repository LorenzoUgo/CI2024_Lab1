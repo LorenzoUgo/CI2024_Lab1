{
 "cells": [
  {
   "cell_type": "markdown",
   "metadata": {},
   "source": [
    "# Lab 1 - Computational Intelligence 2024"
   ]
  },
  {
   "cell_type": "markdown",
   "metadata": {},
   "source": [
    "## Set Cover\n",
    "\n",
    "*Given a family of sets, find the subfamily of minimum cost that covers all the elements in the universe.*\n",
    "\n",
    "Solve efficently these istances:\n",
    "- SIZE: 100; Number of sets: 10; Density: 0.2\n",
    "- SIZE: 1000; Number of sets: 100; Density: 0.2\n",
    "- SIZE: 10000; Number of sets: 1000; Density: 0.2\n",
    "- SIZE: 100000; Number of sets: 10000; Density: 0.1\n",
    "- SIZE: 100000; Number of sets: 10000; Density: 0.2\n",
    "- SIZE: 100000; Number of sets: 10000; Density: 0.3"
   ]
  },
  {
   "cell_type": "code",
   "execution_count": null,
   "metadata": {},
   "outputs": [],
   "source": []
  },
  {
   "cell_type": "code",
   "execution_count": null,
   "metadata": {},
   "outputs": [],
   "source": []
  }
 ],
 "metadata": {
  "kernelspec": {
   "display_name": "Python 3",
   "language": "python",
   "name": "python3"
  },
  "language_info": {
   "name": "python",
   "version": "3.12.0"
  }
 },
 "nbformat": 4,
 "nbformat_minor": 2
}
