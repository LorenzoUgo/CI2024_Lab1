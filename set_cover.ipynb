{
 "cells": [
  {
   "cell_type": "markdown",
   "metadata": {},
   "source": [
    "# Lab 1 - Computational Intelligence 2024"
   ]
  },
  {
   "cell_type": "code",
   "execution_count": null,
   "metadata": {},
   "outputs": [],
   "source": [
    "## Kernel\n",
    "# #\n",
    "# C:\\Users\\Lorenzo Ugoccioni\\Documents\\PoliTo\\LM - III anno\\Computational Intelligence\\Labs\\.venv\\Scripts\\python.exe"
   ]
  },
  {
   "cell_type": "code",
   "execution_count": 1,
   "metadata": {},
   "outputs": [
    {
     "name": "stderr",
     "output_type": "stream",
     "text": [
      "c:\\Users\\Lorenzo Ugoccioni\\Documents\\PoliTo\\LM - III anno\\Computational Intelligence\\Labs\\.venv\\Lib\\site-packages\\tqdm\\auto.py:21: TqdmWarning: IProgress not found. Please update jupyter and ipywidgets. See https://ipywidgets.readthedocs.io/en/stable/user_install.html\n",
      "  from .autonotebook import tqdm as notebook_tqdm\n"
     ]
    }
   ],
   "source": [
    "from random import random, seed, choice\n",
    "from itertools import product, accumulate\n",
    "import numpy as np\n",
    "import matplotlib.pyplot as plt\n",
    "\n",
    "from functools import reduce\n",
    "from tqdm.auto import tqdm\n",
    "from icecream import ic"
   ]
  },
  {
   "cell_type": "markdown",
   "metadata": {},
   "source": [
    "## Set Cover\n",
    "\n",
    "*Given a family of sets, find the subfamily of minimum cost that covers all the elements in the universe.*\n",
    "\n",
    "Solve efficently these istances:\n",
    "- SIZE: 100; Number of sets: 10; Density: 0.2\n",
    "- SIZE: 1000; Number of sets: 100; Density: 0.2\n",
    "- SIZE: 10000; Number of sets: 1000; Density: 0.2\n",
    "- SIZE: 100000; Number of sets: 10000; Density: 0.1\n",
    "- SIZE: 100000; Number of sets: 10000; Density: 0.2\n",
    "- SIZE: 100000; Number of sets: 10000; Density: 0.3"
   ]
  },
  {
   "cell_type": "markdown",
   "metadata": {},
   "source": [
    "## Initialization"
   ]
  },
  {
   "cell_type": "code",
   "execution_count": 83,
   "metadata": {},
   "outputs": [],
   "source": [
    "UNIVERSE_SIZE = 100000\n",
    "NUM_SETS = 10000\n",
    "DENSITY = 0.1\n",
    "\n",
    "rng = np.random.Generator(np.random.PCG64([UNIVERSE_SIZE, NUM_SETS, int(10_000 * DENSITY)]))"
   ]
  },
  {
   "cell_type": "code",
   "execution_count": 84,
   "metadata": {},
   "outputs": [],
   "source": [
    "# DON'T EDIT THESE LINES!\n",
    "SETS = np.random.random((NUM_SETS, UNIVERSE_SIZE)) < DENSITY\n",
    "for s in range(UNIVERSE_SIZE):\n",
    "    if not np.any(SETS[:, s]):\n",
    "        SETS[np.random.randint(NUM_SETS), s] = True\n",
    "COSTS = np.pow(SETS.sum(axis=1), 1.1)"
   ]
  },
  {
   "cell_type": "markdown",
   "metadata": {},
   "source": [
    "## Helper Functions"
   ]
  },
  {
   "cell_type": "code",
   "execution_count": 74,
   "metadata": {},
   "outputs": [],
   "source": [
    "def valid(solution):\n",
    "    \"\"\"Checks wether solution is valid (ie. covers all universe)\"\"\"\n",
    "    return np.all(np.logical_or.reduce(SETS[solution])).item()\n",
    "\n",
    "\n",
    "def cost(solution):\n",
    "    \"\"\"Returns the cost of a solution (to be MINIMIZED)\"\"\"\n",
    "    return COSTS[solution].sum().item()\n",
    "\n",
    "def fitness(state):\n",
    "    valid = np.sum(\n",
    "        reduce(\n",
    "            np.logical_or,\n",
    "            [SETS[i] for i, t in enumerate(state) if t],\n",
    "            np.array([False for _ in range(UNIVERSE_SIZE)]),\n",
    "        )\n",
    "    )\n",
    "    return valid.item(), -cost(state)"
   ]
  },
  {
   "cell_type": "code",
   "execution_count": 75,
   "metadata": {},
   "outputs": [],
   "source": [
    "def tweak(state):\n",
    "    new_state = state.copy()\n",
    "    index = np.random.randint(0, NUM_SETS - 1)\n",
    "    new_state[index] = not new_state[index]\n",
    "    return new_state\n",
    "\n",
    "def powerfull_tweak(solution):\n",
    "    new_solution = solution.copy()\n",
    "    index = None\n",
    "    while index is None or np.random.random() < 0.4:     # 40% probability to perform a second mutation\n",
    "        index = np.random.randint(0, NUM_SETS-1)\n",
    "        new_solution[index] = not new_solution[index]\n",
    "    return new_solution"
   ]
  },
  {
   "cell_type": "markdown",
   "metadata": {},
   "source": [
    "## Dumb and Ramdom Solution"
   ]
  },
  {
   "cell_type": "code",
   "execution_count": 67,
   "metadata": {},
   "outputs": [
    {
     "name": "stderr",
     "output_type": "stream",
     "text": [
      "ic| solution: array([ True,  True,  True,  True,  True,  True,  True,  True,  True,\n",
      "                      True,  True,  True,  True,  True,  True,  True,  True,  True,\n",
      "                      True,  True,  True,  True,  True,  True,  True,  True,  True,\n",
      "                      True,  True,  True,  True,  True,  True,  True,  True,  True,\n",
      "                      True,  True,  True,  True,  True,  True,  True,  True,  True,\n",
      "                      True,  True,  True,  True,  True,  True,  True,  True,  True,\n",
      "                      True,  True,  True,  True,  True,  True,  True,  True,  True,\n",
      "                      True,  True,  True,  True,  True,  True,  True,  True,  True,\n",
      "                      True,  True,  True,  True,  True,  True,  True,  True,  True,\n",
      "                      True,  True,  True,  True,  True,  True,  True,  True,  True,\n",
      "                      True,  True,  True,  True,  True,  True,  True,  True,  True,\n",
      "                      True])\n",
      "ic| valid(solution): True, cost(solution): 34173.30047684395\n",
      "ic| valid(solution): True, cost(solution): 16030.192555915726\n"
     ]
    }
   ],
   "source": [
    "# A dumb solution of \"all\" sets\n",
    "solution = np.full(NUM_SETS, True)\n",
    "ic(solution)\n",
    "ic(valid(solution), cost(solution))\n",
    "\n",
    "\n",
    "# A random solution with random 50% of the sets\n",
    "solution = rng.random(NUM_SETS) < .5\n",
    "ic(valid(solution), cost(solution))\n",
    "\n",
    "None"
   ]
  },
  {
   "cell_type": "markdown",
   "metadata": {},
   "source": [
    "## Solutions technique"
   ]
  },
  {
   "cell_type": "code",
   "execution_count": 76,
   "metadata": {},
   "outputs": [],
   "source": [
    "TEMPERATURE = 1\n",
    "STEEPEST_STEPS = 5\n",
    "NUMBER_STEPS = 7_500"
   ]
  },
  {
   "cell_type": "code",
   "execution_count": 81,
   "metadata": {},
   "outputs": [],
   "source": [
    "def simulated_annealing(temperature, current, new):\n",
    "    prob_worse_sol = np.exp(-(fitness(current)[1] - fitness(new)[1])/temperature)\n",
    "    np.random.random() <= prob_worse_sol\n",
    "    return np.random.random() <= prob_worse_sol\n",
    "\n",
    "def steepest_step(current_solution):\n",
    "    candidates = [tweak(current_solution) for _ in range(STEEPEST_STEPS)]\n",
    "    candidates_fitness = list()\n",
    "    for c in candidates:\n",
    "        f = fitness(c)\n",
    "        #history.append(f)\n",
    "        candidates_fitness.append(f)\n",
    "    idx = candidates_fitness.index(max(candidates_fitness))\n",
    "\n",
    "    # keep candidate solution that yielded the steepest ascent\n",
    "    new_solution = candidates[idx]\n",
    "    new_fitness = candidates_fitness[idx]\n",
    "    return new_solution, new_fitness\n",
    "\n",
    "def local_iterated_search(state):\n",
    "    new_state = state.copy()\n",
    "    index = None\n",
    "    while index is None or np.random.random() < 0.5:     # 50% probability to perform a second mutation\n",
    "        index = choice([i for i, val in enumerate(state) if val])\n",
    "        new_state[index] = not new_state[index]\n",
    "    return np.random.permutation(state)"
   ]
  },
  {
   "cell_type": "code",
   "execution_count": 85,
   "metadata": {},
   "outputs": [
    {
     "name": "stderr",
     "output_type": "stream",
     "text": [
      "100%|██████████| 10000/10000 [20:59<00:00,  7.94it/s] \n"
     ]
    }
   ],
   "source": [
    "current_state = [choice([False, True]) for _ in range(NUM_SETS)]\n",
    "current_fitness = fitness(current_state)\n",
    "history_fitness=[current_fitness] \n",
    "history_state=[current_state]\n",
    "\n",
    "temperature = TEMPERATURE\n",
    "used_simulated_annealing = False\n",
    "\n",
    "for step in tqdm(range(NUMBER_STEPS)):\n",
    "    if step%(NUMBER_STEPS//5) == 0:\n",
    "        new_state = local_iterated_search(current_state)\n",
    "    elif step%(NUMBER_STEPS//200) == 0:\n",
    "        new_state, _ = steepest_step(current_state)\n",
    "    else:\n",
    "        new_state = powerfull_tweak(current_state)\n",
    "\n",
    "    history_state.append(new_state)\n",
    "    history_fitness.append(fitness(new_state))\n",
    "\n",
    "    if history_fitness[-1] >= current_fitness:   # Fitness IS improving\n",
    "        current_state = new_state\n",
    "        current_fitness = history_fitness[-1]\n",
    "        temperature = temperature ** 0.5\n",
    "\n",
    "    else:   # Fitness IS NOT improving\n",
    "        if simulated_annealing(temperature, current_state, new_state): # BUT temperature is TOO High\n",
    "            current_state = new_state\n",
    "            current_fitness = history_fitness[-1]\n",
    "        else:\n",
    "            temperature = temperature*1.2\n"
   ]
  },
  {
   "cell_type": "code",
   "execution_count": 86,
   "metadata": {},
   "outputs": [
    {
     "name": "stderr",
     "output_type": "stream",
     "text": [
      "ic| solution_fitness: (100000, -47446550.337716416)\n",
      "    valid(solution): True\n",
      "    cost(solution): 47446550.337716416\n",
      "    idx: 9993\n",
      "    history_fitness.index(max(history_fitness)): 9993\n"
     ]
    }
   ],
   "source": [
    "idx = history_fitness.index(max(history_fitness))\n",
    "\n",
    "solution = history_state[idx]\n",
    "solution_fitness = history_fitness[idx]\n",
    "ic(solution_fitness,valid(solution), cost(solution), idx, history_fitness.index(max(history_fitness)))\n",
    "None"
   ]
  },
  {
   "cell_type": "code",
   "execution_count": 88,
   "metadata": {},
   "outputs": [
    {
     "data": {
      "image/png": "[encoded data removed]",
      "text/plain": [
       "<Figure size 1400x800 with 1 Axes>"
      ]
     },
     "metadata": {},
     "output_type": "display_data"
    }
   ],
   "source": [
    "plt.figure(figsize=(14,8))\n",
    "plt.scatter(range(len(history_fitness)), [value for _, value in history_fitness], marker=\"x\", color=\"blue\")\n",
    "plt.scatter(8722, history_fitness[8722][1], marker=\"+\", color=\"red\")\n",
    "plt.plot(range(len(history_fitness)), list(accumulate([value for _, value in history_fitness], max)),color=\"red\")\n",
    "plt.show()"
   ]
  }
 ],
 "metadata": {
  "kernelspec": {
   "display_name": ".venv",
   "language": "python",
   "name": "python3"
  },
  "language_info": {
   "codemirror_mode": {
    "name": "ipython",
    "version": 3
   },
   "file_extension": ".py",
   "mimetype": "text/x-python",
   "name": "python",
   "nbconvert_exporter": "python",
   "pygments_lexer": "ipython3",
   "version": "3.12.0"
  }
 },
 "nbformat": 4,
 "nbformat_minor": 2
}
